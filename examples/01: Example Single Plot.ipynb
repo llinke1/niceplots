{
 "cells": [
  {
   "cell_type": "markdown",
   "metadata": {},
   "source": [
    "# Example for a single panel plot\n",
    "This notebook shows how to use the provided package for creating a nice single panel plot. First, we show how the plot would look like in the ```matplotlib``` default setting, than how it looks with the ```niceplot``` default settings."
   ]
  },
  {
   "cell_type": "code",
   "execution_count": null,
   "metadata": {},
   "outputs": [],
   "source": [
    "# Simple imports\n",
    "import matplotlib.pyplot as plt\n",
    "import numpy as np"
   ]
  },
  {
   "cell_type": "markdown",
   "metadata": {},
   "source": [
    "## Generate example data"
   ]
  },
  {
   "cell_type": "code",
   "execution_count": null,
   "metadata": {},
   "outputs": [],
   "source": [
    "x=np.linspace(0, 2*np.pi)\n",
    "y=np.sin(x)\n",
    "z=-np.cos(x)"
   ]
  },
  {
   "cell_type": "markdown",
   "metadata": {},
   "source": [
    "## Plot as ```matplotlib``` default\n",
    "\n",
    "In the default setting, matplotlib is rendering some but not all TeX commands. Also, labelsizes are quite small, and top and right tick marks are missing."
   ]
  },
  {
   "cell_type": "code",
   "execution_count": null,
   "metadata": {},
   "outputs": [],
   "source": [
    "fig, ax=plt.subplots()\n",
    "\n",
    "ax.plot(x, y, label=r'$\\sin(x)$')\n",
    "\n",
    "ax.set_xlabel(r\"Value $x$\")\n",
    "ax.set_ylabel(r\"Sine $\\sin(x)$\")\n",
    "ax.set_title(r\"An example plot of $\\sin(x)$ without proper \\TeX\")\n",
    "ax.legend()\n",
    "\n",
    "plt.savefig(\"exampleSinglePlot_mpl_default.pdf\")"
   ]
  },
  {
   "cell_type": "markdown",
   "metadata": {},
   "source": [
    "# Nice Plot\n",
    "\n",
    "In the niceplot default settings, the font sizes are larger and TeX is properly rendered. Text is rendered in sans-serif font, but math script is rendered in serif font. Do *not* change either the figure width or the font sizes! They are set such that the figure appears nice and readable as a single-column width figure in a two-column article!"
   ]
  },
  {
   "cell_type": "code",
   "execution_count": null,
   "metadata": {},
   "outputs": [],
   "source": [
    "# importing nice plot\n",
    "import niceplots.utils as nicepl\n",
    "\n",
    "# Setting the niceplot settings\n",
    "nicepl.initPlot()"
   ]
  },
  {
   "cell_type": "markdown",
   "metadata": {},
   "source": [
    "The function `initPlot` essentially just initializes a matplotlib style file. If `initPlot` is called without any arguments, this is the file `euclid_stylesheet_v1.mplstyle` provided with this package. One can also use the argument `version='0'` to call the file `euclid_stylesheet_v0.mplstyle` instead. Currently, there are no other stylefiles provided. "
   ]
  },
  {
   "cell_type": "markdown",
   "metadata": {},
   "source": [
    "After calling ```initPlot```, one can essentially use the same syntax as in the standard matplotlib approach. The only difference is calling ```finalizePlot``` which sets the plot title, renders the plot and saves the figure (with good enough resolution for publication)"
   ]
  },
  {
   "cell_type": "code",
   "execution_count": null,
   "metadata": {},
   "outputs": [],
   "source": [
    "fig, ax=plt.subplots()\n",
    "ax.plot(x, y, label=r'$\\sin(x)$')\n",
    "ax.set_xlabel(r\"Value $x$\")\n",
    "ax.set_ylabel(r\"Sine $\\sin(x)$\")\n",
    "\n",
    "nicepl.finalizePlot(ax, title=r\"An example plot of $\\sin(x)$  with proper \\TeX\", outputFn=\"exampleSinglePlot_niceplots.pdf\")"
   ]
  },
  {
   "cell_type": "markdown",
   "metadata": {},
   "source": [
    "# Double-column plot\n",
    "\n",
    "There is *one* reason to change the figure width: You want the figure as a two-column plot spanning over the full line width. In this case you need to modify the figure width to be exactly *twice* the original width. Do not use different values (e.g. three times the original width) as this will mess up the ratio of the font sizes. It might be necessary to adjust the figure height, this is fine!"
   ]
  },
  {
   "cell_type": "code",
   "execution_count": null,
   "metadata": {},
   "outputs": [],
   "source": [
    "fw, fh=plt.rcParams['figure.figsize'] # Get figure width and height\n",
    "\n",
    "fig, ax=plt.subplots(figsize=(2*fw, 1.5*fh)) # Set new figure width and height\n",
    "ax.plot(x, y, label=r'$\\sin(x)$')\n",
    "ax.set_xlabel(r\"Value $x$\")\n",
    "ax.set_ylabel(r\"Sine $\\sin(x)$\")\n",
    "\n",
    "nicepl.finalizePlot(ax, title=r\"An example plot of $\\sin(x)$  with proper \\TeX\", outputFn=\"exampleSinglePlot_niceplots_double_column.pdf\")"
   ]
  },
  {
   "cell_type": "code",
   "execution_count": null,
   "metadata": {},
   "outputs": [],
   "source": []
  }
 ],
 "metadata": {
  "kernelspec": {
   "display_name": "Python 3",
   "language": "python",
   "name": "python3"
  },
  "language_info": {
   "codemirror_mode": {
    "name": "ipython",
    "version": 3
   },
   "file_extension": ".py",
   "mimetype": "text/x-python",
   "name": "python",
   "nbconvert_exporter": "python",
   "pygments_lexer": "ipython3",
   "version": "3.8.17"
  }
 },
 "nbformat": 4,
 "nbformat_minor": 2
}
