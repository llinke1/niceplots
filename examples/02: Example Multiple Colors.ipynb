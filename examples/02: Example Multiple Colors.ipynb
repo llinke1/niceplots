{
 "cells": [
  {
   "cell_type": "markdown",
   "metadata": {},
   "source": [
    "# Example for a multicolor plot\n",
    "A good way to have asthetically pleasing and colorblind friendly graphs is to pick colors from a ```matplotlib``` colormaps. Many of these are designed to have good variation in lightness so that colors are differentiable also in black and white. Some info on those color maps is available here: https://matplotlib.org/stable/users/explain/colors/colormaps.html\n",
    "\n",
    "Unless you have a very good reason: *Do not use the \"miscellaneous\" colormaps* (such as `jet` or `turbo`) as the lightness values vary non-uniformally.\n",
    "\n",
    "This code makes using colormaps easier by providing the function ```getColorList``` which gives a list of colors from a single colormap.\n",
    "\n",
    "The default setting for the colormap is ```copper```, which is well visible even in black and white."
   ]
  },
  {
   "cell_type": "code",
   "execution_count": null,
   "metadata": {},
   "outputs": [],
   "source": [
    "# Simple imports\n",
    "import matplotlib.pyplot as plt\n",
    "import numpy as np\n",
    "import niceplots.utils as nicepl\n"
   ]
  },
  {
   "cell_type": "code",
   "execution_count": null,
   "metadata": {},
   "outputs": [],
   "source": [
    "# Setting niceplot default settings\n",
    "nicepl.initPlot()"
   ]
  },
  {
   "cell_type": "code",
   "execution_count": null,
   "metadata": {},
   "outputs": [],
   "source": [
    "# Getting the color list\n",
    "\n",
    "N=5 # Number of colors\n",
    "\n",
    "color=nicepl.getColorList(N, cmap='copper') # Creating colors\n"
   ]
  },
  {
   "cell_type": "code",
   "execution_count": null,
   "metadata": {},
   "outputs": [],
   "source": [
    "# Creating test data\n",
    "x=np.linspace(0, 2*np.pi)\n",
    "data=[]\n",
    "for i in range(N):\n",
    "    data.append(np.sin(x)+i*0.1)"
   ]
  },
  {
   "cell_type": "code",
   "execution_count": null,
   "metadata": {},
   "outputs": [],
   "source": [
    "# Creating plot\n",
    "\n",
    "fig, ax=plt.subplots()\n",
    "\n",
    "ax.set_xlabel(r\"Value $x$\")\n",
    "ax.set_ylabel(r\"Function $f(x)$\")\n",
    "\n",
    "for i in range(N):\n",
    "    offset=i*0.1\n",
    "    ax.plot(x, data[i], c=color[i], label=r'$f(x)=\\sin(x)+$'+f\"${offset:.1f}$\")\n",
    "\n",
    "# Saving plot\n",
    "nicepl.finalizePlot(ax, title=r\"An example plot with multiple colors\", outputFn=\"exampleMultipleColors_niceplots.pdf\")"
   ]
  }
 ],
 "metadata": {
  "kernelspec": {
   "display_name": "Python 3",
   "language": "python",
   "name": "python3"
  },
  "language_info": {
   "codemirror_mode": {
    "name": "ipython",
    "version": 3
   },
   "file_extension": ".py",
   "mimetype": "text/x-python",
   "name": "python",
   "nbconvert_exporter": "python",
   "pygments_lexer": "ipython3",
   "version": "3.8.17"
  }
 },
 "nbformat": 4,
 "nbformat_minor": 2
}
