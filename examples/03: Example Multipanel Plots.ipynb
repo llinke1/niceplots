{
 "cells": [
  {
   "cell_type": "markdown",
   "metadata": {},
   "source": [
    "# Example for a multipanel plot\n",
    "This notebook shows how to plot a multi panel plot. For multipanels some settings need to be adjusted, in particular related to the legend and title."
   ]
  },
  {
   "cell_type": "code",
   "execution_count": null,
   "metadata": {},
   "outputs": [],
   "source": [
    "# Simple import\n",
    "import matplotlib.pyplot as plt\n",
    "import numpy as np\n",
    "import niceplots.utils as nicepl\n"
   ]
  },
  {
   "cell_type": "code",
   "execution_count": null,
   "metadata": {},
   "outputs": [],
   "source": [
    "# Setting niceplot default settings\n",
    "nicepl.initPlot()"
   ]
  },
  {
   "cell_type": "code",
   "execution_count": null,
   "metadata": {},
   "outputs": [],
   "source": [
    "# Getting colors\n",
    "colors=nicepl.getColorList(2)\n"
   ]
  },
  {
   "cell_type": "code",
   "execution_count": null,
   "metadata": {},
   "outputs": [],
   "source": [
    "# Creating test data\n",
    "x=np.linspace(0, 2*np.pi)\n",
    "\n",
    "f1=np.sin(x)\n",
    "y1=f1+0.3*(np.random.uniform(size=len(x))-0.5)\n",
    "\n",
    "f2=np.cos(x)\n",
    "y2=f2+0.3*(np.random.uniform(size=len(x))-0.5)\n"
   ]
  },
  {
   "cell_type": "code",
   "execution_count": null,
   "metadata": {},
   "outputs": [],
   "source": [
    "# Creating plot\n",
    "\n",
    "gs_kw=dict(height_ratios=[3,1]) # This sets the ratios between the heights of plots\n",
    "\n",
    "# Generate plot\n",
    "fig, axes=plt.subplots(nrows=2, ncols=2, gridspec_kw=gs_kw, sharex=True,\n",
    "                       sharey=\"row\")\n",
    "# Remove space between plots\n",
    "plt.subplots_adjust(hspace=0, wspace=0)\n",
    "\n",
    "\n",
    "# Set labels\n",
    "axes[1][0].set_xlabel(\"Value $x$\")\n",
    "axes[1][1].set_xlabel(\"Value $x$\")\n",
    "\n",
    "axes[0][0].set_ylabel(\"Function $f(x)$\")\n",
    "axes[1][0].set_ylabel(\"$y-f(x)$\")\n",
    "\n",
    "\n",
    "# Do plots\n",
    "axes[0][0].plot(x, f1, label='$\\sin(x)$', color=colors[0])\n",
    "axes[0][0].scatter(x, y1, label='data $y$', color=colors[1])\n",
    "axes[0][1].plot(x, f2, label='$\\cos(x)$', color=colors[0])\n",
    "axes[0][1].scatter(x, y2, label='data $y$', color=colors[1])\n",
    "axes[1][0].axhline(0, color=colors[0], ls=':')\n",
    "axes[1][0].scatter(x, y1-f1, color=colors[1])\n",
    "axes[1][1].axhline(0, color=colors[0], ls=':')\n",
    "axes[1][1].scatter(x, y2-f2, color=colors[1])\n",
    "\n",
    "# Set legends\n",
    "axes[0][0].legend()\n",
    "axes[0][1].legend()\n",
    "\n",
    "# Set Title\n",
    "fig.suptitle(r\"An example plot with multiple panels\")\n",
    "\n",
    "# Output\n",
    "# Important: tightlayout needs to be set to False, because otherwise labels can get cut off\n",
    "nicepl.finalizePlot(axes, tightlayout=False, showlegend=False,\n",
    "                    outputFn=\"exampleMultiplePanels_niceplots.pdf\")\n"
   ]
  },
  {
   "cell_type": "markdown",
   "metadata": {},
   "source": [
    "In particular for multi-panel plots, it is useful to have them span two columns. Similar as for the single panel plot, we can achieve this by adjusting the figure width to be twice the original one. "
   ]
  },
  {
   "cell_type": "code",
   "execution_count": null,
   "metadata": {},
   "outputs": [],
   "source": [
    "# Creating plot\n",
    "\n",
    "fw, fh=plt.rcParams['figure.figsize'] # Get figure width and height\n",
    "\n",
    "\n",
    "\n",
    "gs_kw=dict(height_ratios=[3,1]) # This sets the ratios between the heights of plots\n",
    "\n",
    "# Generate plot\n",
    "fig, axes=plt.subplots(nrows=2, ncols=2, gridspec_kw=gs_kw, sharex=True,\n",
    "                       sharey=\"row\",\n",
    "                       figsize=(2*fw, 1.5*fh)) # Set new figure width and height\n",
    "# Remove space between plots\n",
    "plt.subplots_adjust(hspace=0, wspace=0)\n",
    "\n",
    "\n",
    "# Set labels\n",
    "axes[1][0].set_xlabel(\"Value $x$\")\n",
    "axes[1][1].set_xlabel(\"Value $x$\")\n",
    "\n",
    "axes[0][0].set_ylabel(\"Function $f(x)$\")\n",
    "axes[1][0].set_ylabel(\"$y-f(x)$\")\n",
    "\n",
    "\n",
    "# Do plots\n",
    "axes[0][0].plot(x, f1, label='$\\sin(x)$', color=colors[0])\n",
    "axes[0][0].scatter(x, y1, label='data $y$', color=colors[1])\n",
    "axes[0][1].plot(x, f2, label='$\\cos(x)$', color=colors[0])\n",
    "axes[0][1].scatter(x, y2, label='data $y$', color=colors[1])\n",
    "axes[1][0].axhline(0, color=colors[0], ls=':')\n",
    "axes[1][0].scatter(x, y1-f1, color=colors[1])\n",
    "axes[1][1].axhline(0, color=colors[0], ls=':')\n",
    "axes[1][1].scatter(x, y2-f2, color=colors[1])\n",
    "\n",
    "# Set legends\n",
    "axes[0][0].legend()\n",
    "axes[0][1].legend()\n",
    "\n",
    "# Set Title\n",
    "fig.suptitle(r\"An example plot with multiple panels\")\n",
    "\n",
    "# Output\n",
    "# Important: tightlayout needs to be set to False, because otherwise labels can get cut off\n",
    "nicepl.finalizePlot(axes, tightlayout=False, showlegend=False,\n",
    "                    outputFn=\"exampleMultiplePanels_niceplots_double_column.pdf\")\n"
   ]
  }
 ],
 "metadata": {
  "kernelspec": {
   "display_name": "Python 3",
   "language": "python",
   "name": "python3"
  },
  "language_info": {
   "codemirror_mode": {
    "name": "ipython",
    "version": 3
   },
   "file_extension": ".py",
   "mimetype": "text/x-python",
   "name": "python",
   "nbconvert_exporter": "python",
   "pygments_lexer": "ipython3",
   "version": "3.8.17"
  }
 },
 "nbformat": 4,
 "nbformat_minor": 2
}
