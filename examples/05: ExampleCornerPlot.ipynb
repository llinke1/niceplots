{
 "cells": [
  {
   "cell_type": "markdown",
   "id": "c971feb2",
   "metadata": {},
   "source": [
    "# Example for creating a corner plot\n",
    "In cosmology we often show multidimensional posteriors as corner plots. These are usually created from the output of samplers like `emcee`, `multinest`, or `nautilus`. We here show how we can use the point cloud output of these samplers to generate nice corner plots with multiple posteriors and utilizing both the upper and lower triangle of a corner plot."
   ]
  },
  {
   "cell_type": "markdown",
   "id": "5c76ad11",
   "metadata": {},
   "source": [
    "## Data read in\n",
    "We read in three chains from the provided example posteriors. We need both the values (`chain`) and weights (`weight`) of the points. We also define the parameter names corresponding to the chainn columns."
   ]
  },
  {
   "cell_type": "markdown",
   "id": "01053142",
   "metadata": {},
   "source": [
    "## Parameter and prior definition\n",
    "\n",
    "We now define which parameters to plot (the chains do not have to contain all of these parameters) and what their prior range is. This prior range is what determines the borders of the plot."
   ]
  },
  {
   "cell_type": "markdown",
   "id": "550430bf",
   "metadata": {},
   "source": [
    "## Single chain plot\n",
    "\n",
    "We first plot a single posterior. Unused subplots are automatically turned off by `finalize`."
   ]
  },
  {
   "cell_type": "markdown",
   "id": "493fc34e",
   "metadata": {},
   "source": [
    "## Truth values\n",
    "We can overplot true parameter values as dashed lines"
   ]
  },
  {
   "cell_type": "markdown",
   "id": "f6fe375d",
   "metadata": {},
   "source": [
    "## Multiple posteriors\n",
    "We now plot multiple posteriors. The routine automatically generates a legend. Note how for `chain2` not all parameters are defined, so only parts of the diagram are filled."
   ]
  },
  {
   "cell_type": "markdown",
   "id": "19a84f23",
   "metadata": {},
   "source": [
    "## Using the upper triangle\n",
    "\n",
    "If we want to plot many posteriors, using only the lower triangle can become overcrowded. Therefore, we give the option to add chains also to the upper triangle. Note that axis values are still shared and we need to turn off the axis removal."
   ]
  }
 ],
 "metadata": {
  "language_info": {
   "name": "python"
  }
 },
 "nbformat": 4,
 "nbformat_minor": 5
}
