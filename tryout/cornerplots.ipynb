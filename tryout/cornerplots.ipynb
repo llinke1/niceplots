{
 "cells": [
  {
   "cell_type": "code",
   "execution_count": 1,
   "id": "4a990ab9",
   "metadata": {},
   "outputs": [],
   "source": [
    "import numpy as np\n",
    "import matplotlib.pyplot as plt\n",
    "import niceplots as nicepl\n",
    "from scipy.stats import gaussian_kde"
   ]
  },
  {
   "cell_type": "code",
   "execution_count": 2,
   "id": "654b38e1",
   "metadata": {},
   "outputs": [],
   "source": [
    "nicepl.initPlot()"
   ]
  },
  {
   "cell_type": "code",
   "execution_count": 3,
   "id": "89e15015",
   "metadata": {},
   "outputs": [],
   "source": [
    "# load data\n",
    "chain=np.load(\"posterior_blind_0.npz\")['samples']"
   ]
  },
  {
   "cell_type": "code",
   "execution_count": 4,
   "id": "cafcb711",
   "metadata": {},
   "outputs": [
    {
     "data": {
      "text/plain": [
       "(41000, 3)"
      ]
     },
     "execution_count": 4,
     "metadata": {},
     "output_type": "execute_result"
    }
   ],
   "source": [
    "chain.shape"
   ]
  },
  {
   "cell_type": "code",
   "execution_count": 5,
   "id": "622c6d67",
   "metadata": {},
   "outputs": [],
   "source": [
    "Nparams=chain.shape[1]"
   ]
  },
  {
   "cell_type": "code",
   "execution_count": 6,
   "id": "46c1a88e",
   "metadata": {},
   "outputs": [],
   "source": [
    "param_names=[r\"$\\theta_1$\", r\"$\\theta_2$\", r\"$\\theta_3$\"]\n",
    "\n",
    "priors={\n",
    "    r\"$\\theta_1$\": [0.64, 1.035],\n",
    "    r\"$\\theta_2$\": [0.23008603805291986, 0.39969071100893877],\n",
    "    r\"$\\theta_3$\": [-1.5, 1.5],\n",
    "}"
   ]
  },
  {
   "cell_type": "code",
   "execution_count": 7,
   "id": "cb4daa86",
   "metadata": {},
   "outputs": [],
   "source": [
    "def add_contour(ax, x, y, priorsX, priorsY, color='k', probs=np.array([0.68, 0.95, 0.997]), alpha_min=0.1, alpha_max=0.8):\n",
    "    \n",
    "    # 2D KDE\n",
    "    xy = np.vstack([x, y])\n",
    "    kde = gaussian_kde(xy)\n",
    "            \n",
    "    # Grid for evaluation\n",
    "    xgrid = np.linspace(priorsX[0], priorsX[1], 100)\n",
    "    ygrid = np.linspace(priorsY[0], priorsY[1], 100)\n",
    "    X, Y = np.meshgrid(xgrid, ygrid)\n",
    "    Z = kde(np.vstack([X.ravel(), Y.ravel()])).reshape(X.shape)\n",
    "\n",
    "    # Compute contour levels for 1σ, 2σ, 3σ\n",
    "    Z_flat = Z.flatten()\n",
    "    Z_sorted = np.sort(Z_flat)[::-1]\n",
    "    dz = (xgrid[1] - xgrid[0]) * (ygrid[1] - ygrid[0])  # grid area element\n",
    "    cumsum = np.cumsum(Z_sorted*dz)\n",
    "    cumsum /= cumsum[-1]\n",
    "\n",
    "    levels = []\n",
    "    for p in probs:\n",
    "        idx = np.searchsorted(cumsum, p)\n",
    "        levels.append(Z_sorted[idx])\n",
    "\n",
    "    levels=sorted(levels)\n",
    "            \n",
    "    alphas = np.linspace(alpha_min, alpha_max, len(levels))\n",
    "\n",
    "    # Plot from outermost to innermost\n",
    "    for k in range(len(levels)):\n",
    "        high=Z.max()\n",
    "        low=levels[k]\n",
    "        ax.contourf(X, Y, Z, levels=[low, high], colors=color, alpha=alphas[k])"
   ]
  },
  {
   "cell_type": "code",
   "execution_count": 8,
   "id": "caee2feb",
   "metadata": {},
   "outputs": [],
   "source": [
    "def add_hist(ax, x, priorsX, color='k', alpha=1.0):\n",
    "    # 1D KDE\n",
    "    kde = gaussian_kde(x)\n",
    "    \n",
    "    # Grid for evaluation\n",
    "    xgrid = np.linspace(priorsX[0], priorsX[1], 100)\n",
    "    Z = kde(xgrid)\n",
    "\n",
    "    # Compute contour levels for 1σ, 2σ, 3σ\n",
    "    Z_flat = Z.flatten()\n",
    "    Z_sorted = np.sort(Z_flat)[::-1]\n",
    "    dz = (xgrid[1] - xgrid[0])  # grid area element\n",
    "    cumsum = np.cumsum(Z_sorted*dz)\n",
    "    cumsum /= cumsum[-1]\n",
    "\n",
    "    ax.plot(xgrid, Z, color=color, alpha=alpha)"
   ]
  },
  {
   "cell_type": "code",
   "execution_count": 12,
   "id": "d78e88cd",
   "metadata": {},
   "outputs": [],
   "source": [
    "from matplotlib.patches import Patch"
   ]
  },
  {
   "cell_type": "code",
   "execution_count": 15,
   "id": "787446b8",
   "metadata": {},
   "outputs": [],
   "source": [
    "def add_chain(axs, chain, param_names, priors, lower_triangle=True, color='k', \n",
    "              probs=np.array([0.68, 0.95, 0.997]), alpha_min=0.1, alpha_max=0.8,\n",
    "              label=None):\n",
    "    Nparams=chain.shape[1]\n",
    "\n",
    "    for i in range(Nparams):\n",
    "        y=chain[:,i]\n",
    "        y_par_name=param_names[i]\n",
    "        y_prior=priors[y_par_name]\n",
    "\n",
    "        for j in range(Nparams):\n",
    "            x=chain[:,j]\n",
    "            x_par_name=param_names[j]\n",
    "            x_prior=priors[x_par_name]\n",
    "\n",
    "            # Do plots\n",
    "            if i == j:\n",
    "                add_hist(axs[i, j], y, y_prior, color=color, alpha=alpha_min+alpha_max)\n",
    "            elif (i>j and lower_triangle) or (i<j and not lower_triangle):\n",
    "                add_contour(axs[i, j], x, y, x_prior, y_prior, color=color, probs=probs, alpha_min=alpha_min, alpha_max=alpha_max)\n",
    "\n",
    "\n",
    "    if label is not None:\n",
    "        patch=Patch(color=color, label=label)\n",
    "        return patch"
   ]
  },
  {
   "cell_type": "code",
   "execution_count": 19,
   "id": "a6a7707e",
   "metadata": {},
   "outputs": [],
   "source": [
    "def hide_unused_axes(axs, lower_triangle=True):\n",
    "    Nparams = len(axs)\n",
    "    for i in range(Nparams):\n",
    "        for j in range(Nparams):\n",
    "            if i < j and lower_triangle:\n",
    "                axs[i, j].axis(\"off\")\n",
    "            elif i > j and not lower_triangle:\n",
    "                axs[i, j].axis(\"off\")\n"
   ]
  },
  {
   "cell_type": "code",
   "execution_count": 20,
   "id": "08f9a7a4",
   "metadata": {},
   "outputs": [
    {
     "data": {
      "image/png": "[encoded data removed]",
      "text/plain": [
       "<Figure size 800x600 with 9 Axes>"
      ]
     },
     "metadata": {},
     "output_type": "display_data"
    }
   ],
   "source": [
    "color='C0'\n",
    "\n",
    "\n",
    "fig, axs = plt.subplots(Nparams, Nparams)\n",
    "plt.subplots_adjust(hspace=0.0, wspace=0.0)\n",
    "\n",
    "for i in range(Nparams):\n",
    "    y_par_name=param_names[i]\n",
    "    y_prior=priors[y_par_name]\n",
    "\n",
    "    for j in range(Nparams):\n",
    "        x_par_name=param_names[j]\n",
    "        x_prior=priors[x_par_name]\n",
    "        \n",
    "        # Set axis limits\n",
    "        axs[i, j].set_xlim(x_prior[0], x_prior[1])\n",
    "        \n",
    "        if i!=j:\n",
    "            axs[i, j].set_ylim(y_prior[0], y_prior[1])\n",
    "\n",
    "        # Set axis labels\n",
    "        if (i==Nparams-1):\n",
    "            axs[i, j].set_xlabel(x_par_name)\n",
    "        else:\n",
    "            axs[i, j].set_xticklabels([])\n",
    "\n",
    "        if (j==0) and  (i!=0):\n",
    "            axs[i, j].set_ylabel(y_par_name)\n",
    "        else:\n",
    "            axs[i, j].set_yticklabels([])\n",
    "\n",
    "\n",
    "# Add the chain\n",
    "handles=[]\n",
    "handles.append(add_chain(axs, chain, param_names, priors, lower_triangle=True, \n",
    "                         color='C0', probs=np.array([0.68, 0.95, 0.997]), \n",
    "                         alpha_min=0.1, alpha_max=0.8, label='Chain 1'))\n",
    "handles.append(add_chain(axs, chain, param_names, priors, lower_triangle=True, \n",
    "                         color='C1', probs=np.array([0.68, 0.95, 0.997]), \n",
    "                         alpha_min=0.1, alpha_max=0.8, label=\"Chain 2\"))\n",
    "\n",
    "# Remove None handles (if label=None)\n",
    "handles = [h for h in handles if h is not None]\n",
    "fig.legend(handles=handles, labels=[h.get_label() for h in handles])\n",
    "\n",
    "hide_unused_axes(axs, lower_triangle=True)"
   ]
  },
  {
   "cell_type": "code",
   "execution_count": null,
   "id": "4dd300f8",
   "metadata": {},
   "outputs": [],
   "source": []
  }
 ],
 "metadata": {
  "kernelspec": {
   "display_name": "base",
   "language": "python",
   "name": "python3"
  },
  "language_info": {
   "codemirror_mode": {
    "name": "ipython",
    "version": 3
   },
   "file_extension": ".py",
   "mimetype": "text/x-python",
   "name": "python",
   "nbconvert_exporter": "python",
   "pygments_lexer": "ipython3",
   "version": "3.10.10"
  }
 },
 "nbformat": 4,
 "nbformat_minor": 5
}
